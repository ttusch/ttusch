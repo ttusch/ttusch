{
 "cells": [
  {
   "cell_type": "code",
   "execution_count": 17,
   "metadata": {},
   "outputs": [],
   "source": [
    "import importlib\n",
    "import pandas as pd\n",
    "import numpy as np\n",
    "import ferscrape\n",
    "importlib.reload(ferscrape)\n",
    "from ferscrape import * "
   ]
  },
  {
   "cell_type": "code",
   "execution_count": 21,
   "metadata": {},
   "outputs": [],
   "source": [
    "### Restaurantes Links\n",
    "links_url = 'https://www.ubereats.com/mx/category/monterrey-nl/chinese'\n",
    "r_list_soup  = web_scraper(links_url)\n",
    "links_lists = link_finder(r_list_soup)"
   ]
  },
  {
   "cell_type": "code",
   "execution_count": 22,
   "metadata": {},
   "outputs": [],
   "source": [
    "url_df = pd.DataFrame(links_lists, columns =  ['weblink'])\n",
    "url_df['weblink'] = r'https://www.ubereats.com' +  url_df['weblink']"
   ]
  },
  {
   "cell_type": "code",
   "execution_count": 23,
   "metadata": {},
   "outputs": [
    {
     "name": "stdout",
     "output_type": "stream",
     "text": [
      "https://www.ubereats.com/mx/store/sushipack-2x1-y-chickoriental/ujwZIbfKQP6KlzajjcU2MQ\n",
      "https://www.ubereats.com/mx/store/yalah-valle/A6paYVgbS3SNG8QlLGHK4w\n",
      "https://www.ubereats.com/mx/store/the-cheesecake-factory-punto-valle/wrLkbPGXS--aygSCZ11pGg\n",
      "https://www.ubereats.com/mx/store/shiva-station/OwZ1oFg4R1Wpmc0wo0TXUQ\n",
      "https://www.ubereats.com/mx/store/snack-ce-nutre/AEvYdOJLTk60Y6zZelYs0w\n",
      "https://www.ubereats.com/mx/store/el-palacio-del-te/L6funTGaSPm-rg67l6-6-w\n",
      "https://www.ubereats.com/mx/store/super-naturista-monterrey-centro/EDwXxkLvRMOaOnmIODI1sQ\n",
      "https://www.ubereats.com/mx/store/fitzer-%26-friends-valle-oriente/N62qgoeuTg6jGwUnK9zXsw\n",
      "https://www.ubereats.com/mx/store/chickoriental/yYChFI_jR7ayXQnvdWkH2w\n",
      "https://www.ubereats.com/mx/store/kurai-agua-dulce/95V40nRlSMmQa9Cuaa_qgg\n",
      "https://www.ubereats.com/mx/store/ibaraki-sushi-bar/puPNgEOtSB2m__MELZMUAg\n",
      "https://www.ubereats.com/mx/store/comida-china-jin-lai/JDKo0zxeSaObKBOV7nZc0Q\n",
      "https://www.ubereats.com/mx/store/bamboo-wok-monterrey-centro/qVoWE5BxV4ixa9iFSFkB1g\n",
      "https://www.ubereats.com/mx/store/nooda-obispado/mFCRnxZESpuDKSVdMFbcSA\n",
      "https://www.ubereats.com/mx/store/oriental-grill-pabellon-m/k2pZ3zYvT4Of9PonuE_AyA\n",
      "https://www.ubereats.com/mx/store/oriental-wok-pabellon-m/wTBIPtdzR6KrEn1SS_4EPw\n",
      "https://www.ubereats.com/mx/store/shing-long-cumbres/TIaLTO5ATUqUaSVK_jXPEA\n",
      "https://www.ubereats.com/mx/store/sushi-itto-valle/ZmeiKP1LSe6dTNNE32KE4Q\n",
      "https://www.ubereats.com/mx/store/the-sushi-boys-garza-sada/G4pvcbXTT1Oe099qnzzt7Q\n",
      "https://www.ubereats.com/mx/store/cinepolis-galerias-valle-oriente/CPPVIyntSICazho3liO_lg\n",
      "https://www.ubereats.com/mx/store/sushi-sake/g0szTmeoQnCOuT6Kb3IgKw\n",
      "https://www.ubereats.com/mx/store/napoli-pizza-%26-pasta-valle-oriente/rqU4XXwoSL2vgszfwmJF9A\n",
      "https://www.ubereats.com/mx/store/hoku-poke-shop-to-go/4Mu2DpmATwyra1Hhx5vYkA\n",
      "https://www.ubereats.com/mx/store/to-sushi-cumbres/JLsd73baS02Ldc_q0Neg_Q\n",
      "https://www.ubereats.com/mx/store/carreta-sushi/Ges2CJkaQa-_0dBCMW_Jaw\n",
      "https://www.ubereats.com/mx/store/temakita-vista-hermosa/5OEjCmKFWV-Y7xybjUOABg\n",
      "https://www.ubereats.com/mx/store/oli-oli/MXucekJJSpaGVlqqzcrLOQ\n",
      "https://www.ubereats.com/mx/store/ramen-shan-barrio-antiguo/zBppWT6JRdadFDIW51tQIw\n",
      "https://www.ubereats.com/mx/store/moshi-moshi-punto-valle/oHuC1YnEQTeU7W9LPU-v1A\n",
      "https://www.ubereats.com/mx/store/experiencia-gourmet-liverpool-galerias/wfGx8adwS3-_fcJKkViPgg\n",
      "https://www.ubereats.com/mx/store/sushi-fresh/uft8ZTUHVTKfBRg599S9Nw\n",
      "https://www.ubereats.com/mx/store/my-poke-bowl-barrio-antiguo/-FVAgAGdSPaNuhKdNzDmRg\n",
      "https://www.ubereats.com/mx/store/el-leon-arabe/Pr1yhCORSDWdM8yRW0pGKw\n",
      "https://www.ubereats.com/mx/store/posh-sushi-metropolitan-center/bbe8cbBPRwqFGMu8Gt1qIw\n",
      "https://www.ubereats.com/mx/store/dunch-dunch/d7rsbbbAQse-fK9FiFwfQw\n",
      "https://www.ubereats.com/mx/store/temaky-sushi/OqwiFbwtQea62BGRTsG1Ag\n",
      "https://www.ubereats.com/mx/store/sushi-balls-barrio-antiguo/o3JKSrg4R9a6uymCNA9IXw\n",
      "https://www.ubereats.com/mx/store/dragon-bowls/a7Gqv3v0RRi0SKdw3VAnvw\n",
      "https://www.ubereats.com/mx/store/asian-healthy-food-barrio-antiguo/jrZrjbffXwS5Chk5tfag1Q\n",
      "https://www.ubereats.com/mx/store/cinnabon-galerias-valle-oriente/zSvT6vvCQQC9b_pERWQgqw\n",
      "https://www.ubereats.com/mx/store/tacos-villa-de-santiago-valle-oriente/lobqKJcaR3SKHAIVSToXBQ\n",
      "https://www.ubereats.com/mx/store/el-pequeno-takeshi/xRSXVli0SzOsOfkoBy4LGw\n",
      "https://www.ubereats.com/mx/store/ryu-oriental-food/XPmwH50pX4Onjik1AgkxcQ\n",
      "https://www.ubereats.com/mx/store/sushi-jess-mitras/arr28R1KSZKFenifJRMgGA\n",
      "https://www.ubereats.com/mx/store/koto-sushi-bar-lindavista/R7vrkVZ-Qzaq1Z9WFNqH_g\n",
      "https://www.ubereats.com/mx/store/sushi-express-anahuac/IdomlH_uRP-u6sNmyEGkVQ\n",
      "https://www.ubereats.com/mx/store/hattori-hanzo-batallon-de-patricio/NCOfUEDjWrOqCXteLe2cYQ\n",
      "https://www.ubereats.com/mx/store/oriental-poke-house-vista-hermosa/02YNn12ASGybX_Udmyi3fw\n",
      "https://www.ubereats.com/mx/store/thai-thai/6UqD4AJjRYCYaasNqypaHg\n",
      "https://www.ubereats.com/mx/store/boru-san-agustin/nI-3ie48RhO2irfQ2q3eUg\n",
      "https://www.ubereats.com/mx/store/jin-ramen/6xEMGuKGSKyOxDfglmLRAA\n",
      "https://www.ubereats.com/mx/store/toshi-tiger/HVQCxRaISsyDoRHf56Vjsw\n",
      "https://www.ubereats.com/mx/store/butchers-bgr-valle-oriente-contry/IZblXvXdSNCAffkasgGuaQ\n",
      "https://www.ubereats.com/mx/store/nikkori-galerias/uNEyKvwDVHGCr-1l1aUD-g\n",
      "https://www.ubereats.com/mx/store/onigiri-bolas-de-arroz-tec/dOb0niJLTjyRjgUqOLt4kw\n",
      "https://www.ubereats.com/mx/store/madcoffee-citica/jxTodXNWQeSBxEnsdvBN6A\n",
      "https://www.ubereats.com/mx/store/sushi-balls-zona-cumbres/_nTukGk2S4G81KNyajSodg\n",
      "https://www.ubereats.com/mx/store/nook-coffee-%26-bistro/3CEe2LupRpKNszE2TKI5lg\n",
      "https://www.ubereats.com/mx/store/zu-cafe-centro/20fl3EgARqCLE6trVt_Yxw\n",
      "https://www.ubereats.com/mx/store/queseria-ozuluama-interplaza/SnS_0gIBSx2t8LuHKuPw_w\n",
      "https://www.ubereats.com/mx/store/kunai-sushi/g45BjgY0Rsi2m44KWPup0Q\n",
      "https://www.ubereats.com/mx/store/ramen-ninja/eO1bxhCWXLabdCFaGFKVbw\n",
      "https://www.ubereats.com/mx/store/mi-puerto-valle-oriente/Pwb7psx2SaaDWNkR3NLYxg\n",
      "https://www.ubereats.com/mx/store/umi-umi-cumbres/ttQURLVqQzGKdyUsVZ_IPQ\n",
      "https://www.ubereats.com/mx/store/apetit-catering-%26-store-centro/L3v-hbnGSeSczIlSL-aGEQ\n",
      "https://www.ubereats.com/mx/store/chef-panda/IcfQdSAhRFaabRvDpwgVsw\n",
      "https://www.ubereats.com/mx/store/restaurante-safi/NWpVQ8lKT9qCKNIimvDs1w\n",
      "https://www.ubereats.com/mx/store/sushi-sakura-uma/lqF6HbjFQ4eS0ZAW5T2z7w\n",
      "https://www.ubereats.com/mx/store/wok-onti-go/Qlz-q0qoRJebghJymCw3eA\n",
      "https://www.ubereats.com/mx/store/the-sandwich-co-valle-oriente/8tyTzGSaQ1OTtXV3qAikrA\n",
      "https://www.ubereats.com/mx/store/sushi-sake/o6d8pDPrSm6EjyY-4Lhy_Q\n",
      "https://www.ubereats.com/mx/store/sushiday/zHKRFzWERdmK4RmYn-zM2w\n",
      "https://www.ubereats.com/mx/store/gangchu-sucursal-monterrey/Rf0HjsmSQLqzFlSp64SVkA\n",
      "https://www.ubereats.com/mx/store/umami-tec/gPH8V7WjSXOx8Js3JLUNIA\n",
      "https://www.ubereats.com/mx/store/sushi-house/CNJ58aIRQf6NWvikp6I53A\n",
      "https://www.ubereats.com/mx/store/shinko-sushi-san-jeronimo/EynCQZMITUi5lSbn0zQerA\n",
      "https://www.ubereats.com/mx/store/temaky-sushi-tec/--ygTZuyRcGMKwf2OlWYCg\n",
      "https://www.ubereats.com/mx/store/wei-wei-cumbres/ls1sOrDLSXalUPRQv858ng\n",
      "https://www.ubereats.com/mx/store/sushiya-cocina-fusion/OiWUUywbQhuGssag4YoUYQ\n",
      "https://www.ubereats.com/mx/store/furai-sushi-centro/6fgNOgZVQeSrlt2FGV_W7Q\n",
      "https://www.ubereats.com/mx/store/yamabuki-poke-bowls/l6DtU_D0Rr-2OjM-b_z8tw\n",
      "https://www.ubereats.com/mx/store/botanero-purisima/-26-pPuHSxeNfX7BNZKWeQ\n",
      "https://www.ubereats.com/mx/store/el-oriental-tacos-de-carne-asada/WZ_BoPPTQZaxK8vzzLio4g\n",
      "https://www.ubereats.com/mx/store/el-mestizo-isekai/WVjVeJKPRTav4DlXLwn3hQ\n"
     ]
    }
   ],
   "source": [
    "dish_list = pd.DataFrame()\n",
    "err_list = []\n",
    "for url in url_df.weblink:\n",
    "    try:\n",
    "        print(url)\n",
    "        soup = web_scraper(url)\n",
    "        dishes = dish_finder(soup)\n",
    "        dish_list = pd.concat([dishes, dish_list])\n",
    "    except:\n",
    "        err_list.append(url)"
   ]
  },
  {
   "cell_type": "code",
   "execution_count": 20,
   "metadata": {},
   "outputs": [],
   "source": [
    "result_json  = json_creator(dish_list)\n",
    "writer_json(result_json)"
   ]
  },
  {
   "cell_type": "code",
   "execution_count": 7,
   "metadata": {},
   "outputs": [
    {
     "data": {
      "text/plain": [
       "bs4.BeautifulSoup"
      ]
     },
     "execution_count": 7,
     "metadata": {},
     "output_type": "execute_result"
    }
   ],
   "source": [
    "type(sopa)"
   ]
  },
  {
   "cell_type": "code",
   "execution_count": null,
   "metadata": {},
   "outputs": [],
   "source": []
  }
 ],
 "metadata": {
  "kernelspec": {
   "display_name": "Python 3.9.12 ('base')",
   "language": "python",
   "name": "python3"
  },
  "language_info": {
   "codemirror_mode": {
    "name": "ipython",
    "version": 3
   },
   "file_extension": ".py",
   "mimetype": "text/x-python",
   "name": "python",
   "nbconvert_exporter": "python",
   "pygments_lexer": "ipython3",
   "version": "3.9.12"
  },
  "orig_nbformat": 4,
  "vscode": {
   "interpreter": {
    "hash": "e4cce46d6be9934fbd27f9ca0432556941ea5bdf741d4f4d64c6cd7f8dfa8fba"
   }
  }
 },
 "nbformat": 4,
 "nbformat_minor": 2
}
